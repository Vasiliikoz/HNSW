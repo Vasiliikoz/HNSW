{
 "cells": [
  {
   "cell_type": "code",
   "execution_count": 1,
   "metadata": {},
   "outputs": [],
   "source": [
    "import numpy as np\n",
    "import itertools\n",
    "import math\n",
    "from tqdm.notebook import tqdm\n",
    "from copy import copy\n",
    "from collections import deque"
   ]
  },
  {
   "cell_type": "code",
   "execution_count": 2,
   "metadata": {},
   "outputs": [],
   "source": [
    "class Point():\n",
    "    def __init__(self, x):\n",
    "        self.cord = np.array(x)\n",
    "    def dist(self, other):\n",
    "        return np.sqrt(np.sum(np.square(self.cord - other.cord)))\n",
    "    def get_dimension(self):\n",
    "        return self.cord.shape[0]"
   ]
  },
  {
   "cell_type": "code",
   "execution_count": 3,
   "metadata": {},
   "outputs": [],
   "source": [
    "def SimpleSearch(vertexes, target_vertex, num):\n",
    "    dist_mas = np.zeros(vertexes.shape[0])\n",
    "    for i in range(vertexes.shape[0]):\n",
    "        dist_mas[i] = target_vertex.dist(vertexes[i])\n",
    "    return dist_mas.argpartition(num)[:num]"
   ]
  },
  {
   "cell_type": "code",
   "execution_count": 4,
   "metadata": {},
   "outputs": [],
   "source": [
    "def CalcSumDist(vertexes, target_vertex):\n",
    "    dist = 0.0\n",
    "    for v in vertexes:\n",
    "        dist += v.dist(target_vertex)\n",
    "    return dist"
   ]
  },
  {
   "cell_type": "code",
   "execution_count": 5,
   "metadata": {},
   "outputs": [],
   "source": [
    "class ListMin():\n",
    "    \n",
    "    def __init__(self):\n",
    "            self.size = 0\n",
    "            self.min = None\n",
    "            self.deq = deque()\n",
    "            \n",
    "    def add_first(self, e):\n",
    "        self.size = 1\n",
    "        self.deq.appendleft(e[1])\n",
    "        self.min = e[0]\n",
    "        return\n",
    "    \n",
    "    def add(self, e):\n",
    "        self.size += 1\n",
    "        if self.min > e[0]:\n",
    "            self.min = e[0]\n",
    "            self.deq.appendleft(e[1])\n",
    "        else:\n",
    "            self.deq.append(e[1])\n",
    "        return\n",
    "    \n",
    "    def add_no_min_no_size(self, e):\n",
    "        self.deq.append(e)\n",
    "        \n",
    "    def get_min(self):\n",
    "        return self.min\n",
    "    \n",
    "    def size(self):\n",
    "        return self.size\n",
    "    \n",
    "    def change_min(self, e):\n",
    "        self.size += 1\n",
    "        self.min = e[0]\n",
    "        self.deq.appendleft(e[1])\n",
    "        return\n",
    "    \n",
    "    def get_elements(self):\n",
    "        return [i for i in self.deq]"
   ]
  },
  {
   "cell_type": "code",
   "execution_count": 6,
   "metadata": {},
   "outputs": [],
   "source": [
    "class HNSW():\n",
    "    \n",
    "    def __init__(self, vertexes, number_of_candidates = 20, maximum_number_neighbors = None, maximum_number_neighbors0 = None, control_layers = None, type_of_search = None, extension_in_search = True, keep_pruned = False):\n",
    "        if control_layers is None:\n",
    "            self.mL = 1 / np.log(number_of_candidates)\n",
    "        else:\n",
    "            self.mL = control_layers\n",
    "        if maximum_number_neighbors is None:\n",
    "            self.maximum_number_neighbors = 2 * number_of_candidates\n",
    "        else:\n",
    "            self.maximum_number_neighbors = maximum_number_neighbors\n",
    "        if maximum_number_neighbors is None:\n",
    "            self.maximum_number_neighbors0 = 2 * number_of_candidates\n",
    "        else:\n",
    "            self.maximum_number_neighbors0 = maximum_number_neighbors0\n",
    "        if type(vertexes) == type(list()):\n",
    "            self.vertexes = vertexes\n",
    "        else:\n",
    "            self.vertexes = vertexes.tolist()\n",
    "        if type_of_search is None:\n",
    "            if len(vertexes):\n",
    "                self.find_closest = self.__simple_select__ if vertexes[0].get_dimension() < 10 else self.__heuristic_select__\n",
    "            else:\n",
    "                self.find_closest = self.__simple_select__\n",
    "        else:\n",
    "            self.find_closest = self.__simple_select__ if type_of_search == 'simple' else self.__heuristic_select__\n",
    "        self.extension_in_search = extension_in_search\n",
    "        self.keep_pruned = keep_pruned\n",
    "        self.index_per_layer = list()\n",
    "        self.matrix = list()\n",
    "        self.layers = list()\n",
    "        self.enter_point = None\n",
    "        self.toplayer = 0\n",
    "        self.number_of_candidates = number_of_candidates\n",
    "        if len(self.vertexes) > 0:\n",
    "            self.__insert_first__(0)\n",
    "        for i in tqdm(range(1, len(self.vertexes))):\n",
    "            self.__insert_private__(i, self.number_of_candidates, self.maximum_number_neighbors, self.maximum_number_neighbors0)\n",
    "        \n",
    "    def __insert_first__(self, q):\n",
    "        self.layers.append([q])\n",
    "        self.enter_point = q\n",
    "        self.matrix.append([[]])\n",
    "        self.index_per_layer.append(dict())\n",
    "        self.index_per_layer[0][q] = 0\n",
    "    \n",
    "    def __get_new_level__(self):\n",
    "        return -np.log(np.random.uniform()) * self.mL\n",
    "    \n",
    "    def __simple_select__(self, vertexes, target, n, level):\n",
    "        s = set()\n",
    "        for i in vertexes:\n",
    "            s.add((self.vertexes[target].dist(self.vertexes[i]), i))\n",
    "        return [i[1] for i in itertools.islice(s, n)]\n",
    "    \n",
    "    def __heuristic_select__(self, vertexes, target, n, level):\n",
    "        res = ListMin()\n",
    "        w = set([(self.vertexes[i].dist(self.vertexes[target]), i) for i in vertexes])\n",
    "        w_ind = set([i for i in vertexes]) if self.extension_in_search else None\n",
    "        if self.extension_in_search:\n",
    "            for i in vertexes:\n",
    "                for j in self.matrix[level][self.index_per_layer[level][i]]:\n",
    "                    if j not in w_ind:\n",
    "                        w.add((self.vertexes[target].dist(self.vertexes[j]), j))\n",
    "                        w_ind.add(j)\n",
    "        discarded = set()\n",
    "        del w_ind\n",
    "        while w:\n",
    "            el = w.pop()\n",
    "            dist_e = el[0]\n",
    "            e = el[1]\n",
    "            if res.size == 0:\n",
    "                res.add_first(el)\n",
    "            else:\n",
    "                minimum = res.get_min()\n",
    "                if minimum > dist_e:\n",
    "                    res.change_min(el)\n",
    "                    if res.size >= n:\n",
    "                        break\n",
    "                else:\n",
    "                    discarded.add(el)\n",
    "        if self.keep_pruned:\n",
    "            while res.size < n and discarded:\n",
    "                res.add_no_min_no_size(discarded.pop()[1])\n",
    "        return res.get_elements()\n",
    "        \n",
    "    def __add_conections__(self, vertexes, q, M_max, l_now):\n",
    "        for i in vertexes:\n",
    "            ind = self.index_per_layer[l_now][i]\n",
    "            if len(self.matrix[l_now][ind]) < M_max:\n",
    "                self.matrix[l_now][ind].append(q)\n",
    "            else:\n",
    "                self.matrix[l_now][ind] = self.find_closest(self.matrix[l_now][ind] + [q], i, M_max, l_now)\n",
    "        ind = self.index_per_layer[l_now][q]\n",
    "        self.matrix[l_now][ind] = vertexes\n",
    "        return\n",
    "            \n",
    "        \n",
    "    def __insert_private__(self, q, M, M_max, M_max0):\n",
    "        l = self.toplayer\n",
    "        ep = [self.enter_point]\n",
    "        new_l = math.floor(self.__get_new_level__())\n",
    "        for l_now in range(l, new_l, -1):\n",
    "            ep = self.__search_layer__(q, ep, 1, l_now)\n",
    "\n",
    "        for l_now in range(min(l, new_l), -1, -1):\n",
    "            w = self.find_closest(self.__search_layer__(q, ep, M, l_now), q, M, l_now)\n",
    "            self.index_per_layer[l_now][q] = len(self.layers[l_now])\n",
    "            self.layers[l_now].append(q)\n",
    "            self.index_per_layer[l_now][q] = len(self.matrix[l_now])\n",
    "            self.matrix[l_now].append([])\n",
    "            self.__add_conections__(w, q, M_max if l_now != 0 else M_max0, l_now)\n",
    "            ep = w\n",
    "        if new_l > self.toplayer:\n",
    "            for i in range(new_l - self.toplayer):\n",
    "                self.layers.append([q])\n",
    "                self.matrix.append([[]])\n",
    "                self.index_per_layer.append(dict())\n",
    "                self.index_per_layer[-1][q] = 0\n",
    "            self.toplayer = new_l\n",
    "            self.enter_point = q\n",
    "        return\n",
    "    \n",
    "    def __search_layer__(self, q, ep, ef, l):\n",
    "        candidates = set([(self.vertexes[i].dist(self.vertexes[q]), i) for i in ep])\n",
    "        visited = set(ep)\n",
    "        w = set([(-self.vertexes[i].dist(self.vertexes[q]), i) for i in ep])\n",
    "        while bool(candidates):\n",
    "            c = candidates.pop()\n",
    "            dist_c = c[0]\n",
    "            c = c[1]\n",
    "            w_top = w.pop()\n",
    "            f = w_top[1]\n",
    "            dist_f = -w_top[0]\n",
    "            w.add(w_top)\n",
    "            if dist_c > dist_f:\n",
    "                break\n",
    "            for e in self.matrix[l][self.index_per_layer[l][c]]:\n",
    "                if e not in visited:\n",
    "                    visited.add(e)\n",
    "                    w_top = w.pop()\n",
    "                    f = w_top[1]\n",
    "                    dist_f = -w_top[0]\n",
    "                    w.add(w_top)\n",
    "                    dist_e = self.vertexes[e].dist(self.vertexes[q])\n",
    "                    if len(w) < ef:\n",
    "                        candidates.add((dist_e, e))\n",
    "                        w.add((dist_e, e))\n",
    "                    else:\n",
    "                        if dist_e < dist_f:\n",
    "                            candidates.add((dist_e, e))\n",
    "                            w.add((dist_e, e))\n",
    "                            w.remove(w_top)\n",
    "        return [i[1] for i in w]\n",
    "    \n",
    "    def get_info(self):\n",
    "        print('total levels', self.toplayer)\n",
    "        for i in range(self.toplayer + 1):\n",
    "            print('layer', i, 'elements', len(self.layers[i]))\n",
    "        return self.index_per_layer, self.layers, self.matrix \n",
    "        \n",
    "    \n",
    "    def add(self, vertex):\n",
    "        q = len(self.vertexes)\n",
    "        self.vertexes.append(vertex)\n",
    "        self.__insert_private__(self, q, self.number_of_candidates, self.maximum_number_neighbors)\n",
    "        return\n",
    "    \n",
    "    def SearchNeighbors(self, vertex, ef, return_index = True, type_of_search = None, change_number_of_enter = lambda s: s):\n",
    "        q = len(self.vertexes)\n",
    "        self.vertexes.append(vertex)\n",
    "        backup_extension_in_search = self.extension_in_search\n",
    "        backup_keep_pruned = self.keep_pruned\n",
    "        self.extension_in_search = True\n",
    "        self.keep_pruned = True\n",
    "        ep = [self.enter_point]\n",
    "        cnt = 1\n",
    "        for l in range(self.toplayer, -1, -1):\n",
    "            ep = self.__search_layer__(q, ep, cnt, l)\n",
    "            cnt += change_number_of_enter(cnt)\n",
    "            \n",
    "        w = self.__search_layer__(q, ep, ef, 0)\n",
    "        res = self.__simple_select__(w, q, ef, 0)\n",
    "        del self.vertexes[-1]\n",
    "        self.extension_in_search = backup_extension_in_search\n",
    "        self.keep_pruned = backup_keep_pruned\n",
    "        return res if return_index else self.vertexes[res]\n",
    "            \n",
    "        "
   ]
  },
  {
   "cell_type": "code",
   "execution_count": 11,
   "metadata": {},
   "outputs": [],
   "source": [
    "n = 10000\n",
    "dim = 1000\n",
    "test_mas = np.array([Point(np.random.uniform(-10000, 10000, dim)) for i in range(n)])"
   ]
  },
  {
   "cell_type": "code",
   "execution_count": 12,
   "metadata": {
    "scrolled": false
   },
   "outputs": [
    {
     "data": {
      "application/vnd.jupyter.widget-view+json": {
       "model_id": "ec9f0db8259140d5a95671f1bd954c36",
       "version_major": 2,
       "version_minor": 0
      },
      "text/plain": [
       "HBox(children=(FloatProgress(value=0.0, max=9999.0), HTML(value='')))"
      ]
     },
     "metadata": {},
     "output_type": "display_data"
    },
    {
     "name": "stdout",
     "output_type": "stream",
     "text": [
      "\n",
      "CPU times: user 1min 20s, sys: 485 ms, total: 1min 20s\n",
      "Wall time: 1min 20s\n"
     ]
    }
   ],
   "source": [
    "%%time\n",
    "hnsw = HNSW(test_mas, 20, type_of_search = 'simple')"
   ]
  },
  {
   "cell_type": "code",
   "execution_count": 26,
   "metadata": {},
   "outputs": [
    {
     "data": {
      "application/vnd.jupyter.widget-view+json": {
       "model_id": "9a652f4a0bf948b79cf699b0d2fae4d7",
       "version_major": 2,
       "version_minor": 0
      },
      "text/plain": [
       "HBox(children=(FloatProgress(value=0.0, max=50.0), HTML(value='')))"
      ]
     },
     "metadata": {},
     "output_type": "display_data"
    },
    {
     "name": "stdout",
     "output_type": "stream",
     "text": [
      "\n"
     ]
    }
   ],
   "source": [
    "dist_1 = list()\n",
    "dist_2 = list()\n",
    "for i in tqdm(range(50)):\n",
    "    test_vertex = Point(np.random.uniform(-10000, 10000, dim))\n",
    "    index1 = hnsw.SearchNeighbors(test_vertex, 10, type_of_search = 'simple', change_number_of_enter = lambda s: s + 10)\n",
    "    dist_1.append(CalcSumDist(test_mas[index1], test_vertex))\n",
    "\n",
    "    index2 = SimpleSearch(test_mas, test_vertex, 10)\n",
    "    dist_2.append(CalcSumDist(test_mas[index2], test_vertex))\n",
    "    if len(index1) < len(index2):\n",
    "        print('can\\'t find 10 neigbours')"
   ]
  },
  {
   "cell_type": "code",
   "execution_count": 27,
   "metadata": {},
   "outputs": [
    {
     "name": "stdout",
     "output_type": "stream",
     "text": [
      "sum\n",
      "HNSW 128744480.77222222 LinearSearch 121473075.5699372\n",
      "average difference in % between HNSW distance and LinearSearch distance\n",
      "0.05986022143728942\n"
     ]
    }
   ],
   "source": [
    "dist_1 = np.array(dist_1)\n",
    "dist_2 = np.array(dist_2)\n",
    "print('sum')\n",
    "print('HNSW', np.sum(dist_1), 'LinearSearch', np.sum(dist_2))\n",
    "print('average difference in % between HNSW distance and LinearSearch distance')\n",
    "print(np.sum(dist_1) /  np.sum(dist_2) - 1)"
   ]
  },
  {
   "cell_type": "code",
   "execution_count": 28,
   "metadata": {},
   "outputs": [
    {
     "data": {
      "application/vnd.jupyter.widget-view+json": {
       "model_id": "1dc5b80e808c4222b6e1b5132b093d83",
       "version_major": 2,
       "version_minor": 0
      },
      "text/plain": [
       "HBox(children=(FloatProgress(value=0.0), HTML(value='')))"
      ]
     },
     "metadata": {},
     "output_type": "display_data"
    },
    {
     "name": "stdout",
     "output_type": "stream",
     "text": [
      "\n",
      "CPU times: user 282 ms, sys: 5.22 ms, total: 287 ms\n",
      "Wall time: 285 ms\n"
     ]
    }
   ],
   "source": [
    "%%time\n",
    "for i in tqdm(range(100)):\n",
    "    test_vertex = Point(np.random.uniform(-10000, 10000, dim))\n",
    "    index = hnsw.SearchNeighbors(test_vertex, 10, type_of_search = 'simple', change_number_of_enter = lambda s: s + 10)"
   ]
  },
  {
   "cell_type": "code",
   "execution_count": 29,
   "metadata": {},
   "outputs": [
    {
     "data": {
      "application/vnd.jupyter.widget-view+json": {
       "model_id": "b53344fbd35f4eaf81fd6ba71fc7767a",
       "version_major": 2,
       "version_minor": 0
      },
      "text/plain": [
       "HBox(children=(FloatProgress(value=0.0), HTML(value='')))"
      ]
     },
     "metadata": {},
     "output_type": "display_data"
    },
    {
     "name": "stdout",
     "output_type": "stream",
     "text": [
      "\n",
      "CPU times: user 9.37 s, sys: 44.6 ms, total: 9.42 s\n",
      "Wall time: 9.42 s\n"
     ]
    }
   ],
   "source": [
    "%%time\n",
    "for i in tqdm(range(100)):\n",
    "    test_vertex = Point(np.random.uniform(-10000, 10000, dim))\n",
    "    index = SimpleSearch(test_mas, test_vertex, 10)"
   ]
  },
  {
   "cell_type": "markdown",
   "metadata": {},
   "source": [
    "More than 10 times faster than simple linear search"
   ]
  },
  {
   "cell_type": "code",
   "execution_count": null,
   "metadata": {},
   "outputs": [],
   "source": []
  }
 ],
 "metadata": {
  "kernelspec": {
   "display_name": "Python 3",
   "language": "python",
   "name": "python3"
  },
  "language_info": {
   "codemirror_mode": {
    "name": "ipython",
    "version": 3
   },
   "file_extension": ".py",
   "mimetype": "text/x-python",
   "name": "python",
   "nbconvert_exporter": "python",
   "pygments_lexer": "ipython3",
   "version": "3.7.6"
  }
 },
 "nbformat": 4,
 "nbformat_minor": 4
}
